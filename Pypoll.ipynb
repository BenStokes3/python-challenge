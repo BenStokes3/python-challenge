{
 "cells": [
  {
   "cell_type": "code",
   "execution_count": 1,
   "id": "9a375f63",
   "metadata": {},
   "outputs": [],
   "source": [
    "import pandas as pf"
   ]
  },
  {
   "cell_type": "code",
   "execution_count": 9,
   "id": "d064acc4",
   "metadata": {},
   "outputs": [],
   "source": [
    "df = pf.read_csv(\"election_data.csv\")"
   ]
  },
  {
   "cell_type": "code",
   "execution_count": 10,
   "id": "b4fa2e21",
   "metadata": {},
   "outputs": [
    {
     "data": {
      "text/html": [
       "<div>\n",
       "<style scoped>\n",
       "    .dataframe tbody tr th:only-of-type {\n",
       "        vertical-align: middle;\n",
       "    }\n",
       "\n",
       "    .dataframe tbody tr th {\n",
       "        vertical-align: top;\n",
       "    }\n",
       "\n",
       "    .dataframe thead th {\n",
       "        text-align: right;\n",
       "    }\n",
       "</style>\n",
       "<table border=\"1\" class=\"dataframe\">\n",
       "  <thead>\n",
       "    <tr style=\"text-align: right;\">\n",
       "      <th></th>\n",
       "      <th>Ballot ID</th>\n",
       "      <th>County</th>\n",
       "      <th>Candidate</th>\n",
       "    </tr>\n",
       "  </thead>\n",
       "  <tbody>\n",
       "    <tr>\n",
       "      <th>0</th>\n",
       "      <td>1323913</td>\n",
       "      <td>Jefferson</td>\n",
       "      <td>Charles Casper Stockham</td>\n",
       "    </tr>\n",
       "    <tr>\n",
       "      <th>1</th>\n",
       "      <td>1005842</td>\n",
       "      <td>Jefferson</td>\n",
       "      <td>Charles Casper Stockham</td>\n",
       "    </tr>\n",
       "    <tr>\n",
       "      <th>2</th>\n",
       "      <td>1880345</td>\n",
       "      <td>Jefferson</td>\n",
       "      <td>Charles Casper Stockham</td>\n",
       "    </tr>\n",
       "    <tr>\n",
       "      <th>3</th>\n",
       "      <td>1600337</td>\n",
       "      <td>Jefferson</td>\n",
       "      <td>Charles Casper Stockham</td>\n",
       "    </tr>\n",
       "    <tr>\n",
       "      <th>4</th>\n",
       "      <td>1835994</td>\n",
       "      <td>Jefferson</td>\n",
       "      <td>Charles Casper Stockham</td>\n",
       "    </tr>\n",
       "  </tbody>\n",
       "</table>\n",
       "</div>"
      ],
      "text/plain": [
       "   Ballot ID     County                Candidate\n",
       "0    1323913  Jefferson  Charles Casper Stockham\n",
       "1    1005842  Jefferson  Charles Casper Stockham\n",
       "2    1880345  Jefferson  Charles Casper Stockham\n",
       "3    1600337  Jefferson  Charles Casper Stockham\n",
       "4    1835994  Jefferson  Charles Casper Stockham"
      ]
     },
     "execution_count": 10,
     "metadata": {},
     "output_type": "execute_result"
    }
   ],
   "source": [
    "df.head()"
   ]
  },
  {
   "cell_type": "code",
   "execution_count": 13,
   "id": "a1a62cf7",
   "metadata": {},
   "outputs": [],
   "source": [
    "total_votes = df['Ballot ID'].nunique()"
   ]
  },
  {
   "cell_type": "code",
   "execution_count": 14,
   "id": "20aaa81a",
   "metadata": {},
   "outputs": [
    {
     "name": "stdout",
     "output_type": "stream",
     "text": [
      "Total Votes: 369711\n"
     ]
    }
   ],
   "source": [
    "print(f\"Total Votes: {total_votes}\")"
   ]
  },
  {
   "cell_type": "code",
   "execution_count": 15,
   "id": "ff9ce5ec",
   "metadata": {},
   "outputs": [
    {
     "name": "stdout",
     "output_type": "stream",
     "text": [
      "Candidates:  ['Charles Casper Stockham' 'Diana DeGette' 'Raymon Anthony Doane']\n"
     ]
    }
   ],
   "source": [
    "candidates = df['Candidate'].unique()\n",
    "print(\"Candidates: \", candidates)"
   ]
  },
  {
   "cell_type": "code",
   "execution_count": 16,
   "id": "cf9d7945",
   "metadata": {},
   "outputs": [
    {
     "name": "stdout",
     "output_type": "stream",
     "text": [
      "Charles Casper Stockham: 23.049% (85213)\n",
      "Diana DeGette: 73.812% (272892)\n",
      "Raymon Anthony Doane: 3.139% (11606)\n"
     ]
    }
   ],
   "source": [
    "votes_per_candidate = df['Candidate'].value_counts()\n",
    "percentages = votes_per_candidate / total_votes * 100\n",
    "\n",
    "for candidate in candidates:\n",
    "    print(f\"{candidate}: {percentages[candidate]:.3f}% ({votes_per_candidate[candidate]})\")"
   ]
  },
  {
   "cell_type": "code",
   "execution_count": 17,
   "id": "048a4141",
   "metadata": {},
   "outputs": [
    {
     "name": "stdout",
     "output_type": "stream",
     "text": [
      "Winner: Diana DeGette\n"
     ]
    }
   ],
   "source": [
    "winner = votes_per_candidate.idxmax()\n",
    "print(f\"Winner: {winner}\")"
   ]
  },
  {
   "cell_type": "code",
   "execution_count": 18,
   "id": "1c3860c1",
   "metadata": {},
   "outputs": [],
   "source": [
    "with open('election_results.txt', 'w') as f:\n",
    "    f.write(\"Election Results\\n\")\n",
    "    f.write(\"-------------------------\\n\")\n",
    "    f.write(f\"Total Votes: {total_votes}\\n\")\n",
    "    f.write(\"-------------------------\\n\")\n",
    "    for candidate in candidates:\n",
    "        f.write(f\"{candidate}: {percentages[candidate]:.3f}% ({votes_per_candidate[candidate]})\\n\")\n",
    "    f.write(\"-------------------------\\n\")\n",
    "    f.write(f\"Winner: {winner}\\n\")\n",
    "    f.write(\"-------------------------\\n\")"
   ]
  },
  {
   "cell_type": "code",
   "execution_count": null,
   "id": "2eaca954",
   "metadata": {},
   "outputs": [],
   "source": []
  }
 ],
 "metadata": {
  "kernelspec": {
   "display_name": "Python 3 (ipykernel)",
   "language": "python",
   "name": "python3"
  },
  "language_info": {
   "codemirror_mode": {
    "name": "ipython",
    "version": 3
   },
   "file_extension": ".py",
   "mimetype": "text/x-python",
   "name": "python",
   "nbconvert_exporter": "python",
   "pygments_lexer": "ipython3",
   "version": "3.11.3"
  }
 },
 "nbformat": 4,
 "nbformat_minor": 5
}
