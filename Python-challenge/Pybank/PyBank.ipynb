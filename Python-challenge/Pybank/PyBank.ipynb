{
 "cells": [
  {
   "cell_type": "code",
   "execution_count": 3,
   "id": "348d1e26",
   "metadata": {},
   "outputs": [],
   "source": [
    "import pandas as pd"
   ]
  },
  {
   "cell_type": "code",
   "execution_count": 11,
   "id": "f117813f",
   "metadata": {},
   "outputs": [],
   "source": [
    "df = pd.read_csv(\"budget_data.csv\")"
   ]
  },
  {
   "cell_type": "code",
   "execution_count": 12,
   "id": "12b3eb3c",
   "metadata": {},
   "outputs": [
    {
     "data": {
      "text/html": [
       "<div>\n",
       "<style scoped>\n",
       "    .dataframe tbody tr th:only-of-type {\n",
       "        vertical-align: middle;\n",
       "    }\n",
       "\n",
       "    .dataframe tbody tr th {\n",
       "        vertical-align: top;\n",
       "    }\n",
       "\n",
       "    .dataframe thead th {\n",
       "        text-align: right;\n",
       "    }\n",
       "</style>\n",
       "<table border=\"1\" class=\"dataframe\">\n",
       "  <thead>\n",
       "    <tr style=\"text-align: right;\">\n",
       "      <th></th>\n",
       "      <th>Date</th>\n",
       "      <th>Profit/Losses</th>\n",
       "    </tr>\n",
       "  </thead>\n",
       "  <tbody>\n",
       "    <tr>\n",
       "      <th>0</th>\n",
       "      <td>Jan-10</td>\n",
       "      <td>1088983</td>\n",
       "    </tr>\n",
       "    <tr>\n",
       "      <th>1</th>\n",
       "      <td>Feb-10</td>\n",
       "      <td>-354534</td>\n",
       "    </tr>\n",
       "    <tr>\n",
       "      <th>2</th>\n",
       "      <td>Mar-10</td>\n",
       "      <td>276622</td>\n",
       "    </tr>\n",
       "    <tr>\n",
       "      <th>3</th>\n",
       "      <td>Apr-10</td>\n",
       "      <td>-728133</td>\n",
       "    </tr>\n",
       "    <tr>\n",
       "      <th>4</th>\n",
       "      <td>May-10</td>\n",
       "      <td>852993</td>\n",
       "    </tr>\n",
       "  </tbody>\n",
       "</table>\n",
       "</div>"
      ],
      "text/plain": [
       "     Date  Profit/Losses\n",
       "0  Jan-10        1088983\n",
       "1  Feb-10        -354534\n",
       "2  Mar-10         276622\n",
       "3  Apr-10        -728133\n",
       "4  May-10         852993"
      ]
     },
     "execution_count": 12,
     "metadata": {},
     "output_type": "execute_result"
    }
   ],
   "source": [
    "df.head()"
   ]
  },
  {
   "cell_type": "code",
   "execution_count": 13,
   "id": "73cda386",
   "metadata": {},
   "outputs": [],
   "source": [
    "total_months = df['Date'].nunique()"
   ]
  },
  {
   "cell_type": "code",
   "execution_count": 14,
   "id": "4c06a3fd",
   "metadata": {},
   "outputs": [
    {
     "name": "stdout",
     "output_type": "stream",
     "text": [
      "Total Months: 86\n"
     ]
    }
   ],
   "source": [
    "print(f\"Total Months: {total_months}\")"
   ]
  },
  {
   "cell_type": "code",
   "execution_count": 15,
   "id": "5a47827b",
   "metadata": {},
   "outputs": [],
   "source": [
    "total_profit_losses = df['Profit/Losses'].sum()"
   ]
  },
  {
   "cell_type": "code",
   "execution_count": 16,
   "id": "eaf6983b",
   "metadata": {},
   "outputs": [
    {
     "name": "stdout",
     "output_type": "stream",
     "text": [
      "Total: $22564198\n"
     ]
    }
   ],
   "source": [
    "print(f\"Total: ${total_profit_losses}\")"
   ]
  },
  {
   "cell_type": "code",
   "execution_count": 17,
   "id": "136e9684",
   "metadata": {},
   "outputs": [
    {
     "name": "stdout",
     "output_type": "stream",
     "text": [
      "Average Change: $-8311.11\n"
     ]
    }
   ],
   "source": [
    "df['Profit/Losses Shifted'] = df['Profit/Losses'].shift(1)\n",
    "df['Profit/Losses Change'] = df['Profit/Losses'] - df['Profit/Losses Shifted']\n",
    "average_change = df['Profit/Losses Change'].mean()\n",
    "print(f\"Average Change: ${average_change:.2f}\")"
   ]
  },
  {
   "cell_type": "code",
   "execution_count": 18,
   "id": "f66a4e1d",
   "metadata": {},
   "outputs": [
    {
     "name": "stdout",
     "output_type": "stream",
     "text": [
      "Greatest Increase in Profits: Aug-16 ($1862002.0)\n"
     ]
    }
   ],
   "source": [
    "max_profit_increase = df['Profit/Losses Change'].max()\n",
    "max_profit_increase_date = df.loc[df['Profit/Losses Change'] == max_profit_increase, 'Date'].values[0]\n",
    "print(f\"Greatest Increase in Profits: {max_profit_increase_date} (${max_profit_increase})\")"
   ]
  },
  {
   "cell_type": "code",
   "execution_count": 19,
   "id": "2706374e",
   "metadata": {},
   "outputs": [
    {
     "name": "stdout",
     "output_type": "stream",
     "text": [
      "Greatest Decrease in Profits: Feb-14 ($-1825558.0)\n"
     ]
    }
   ],
   "source": [
    "max_profit_decrease = df['Profit/Losses Change'].min()\n",
    "max_profit_decrease_date = df.loc[df['Profit/Losses Change'] == max_profit_decrease, 'Date'].values[0]\n",
    "print(f\"Greatest Decrease in Profits: {max_profit_decrease_date} (${max_profit_decrease})\")\n"
   ]
  },
  {
   "cell_type": "code",
   "execution_count": 20,
   "id": "eaaba8cf",
   "metadata": {},
   "outputs": [],
   "source": [
    "with open('financial_analysPrintis.txt', 'w') as f:\n",
    "    f.write(\"Financial Analysis\\n\")\n",
    "    f.write(\"----------------------------\\n\")\n",
    "    f.write(f\"Total Months: {total_months}\\n\")\n",
    "    f.write(f\"Total: ${total_profit_losses}\\n\")\n",
    "    f.write(f\"Average Change: ${average_change:.2f}\\n\")\n",
    "    f.write(f\"Greatest Increase in Profits: {max_profit_increase_date} (${max_profit_increase})\\n\")\n",
    "    f.write(f\"Greatest Decrease in Profits: {max_profit_decrease_date} (${max_profit_decrease})\\n\")"
   ]
  },
  {
   "cell_type": "code",
   "execution_count": 21,
   "id": "2b3904ea",
   "metadata": {},
   "outputs": [
    {
     "ename": "NameError",
     "evalue": "name 'Print' is not defined",
     "output_type": "error",
     "traceback": [
      "\u001b[1;31m---------------------------------------------------------------------------\u001b[0m",
      "\u001b[1;31mNameError\u001b[0m                                 Traceback (most recent call last)",
      "Cell \u001b[1;32mIn[21], line 1\u001b[0m\n\u001b[1;32m----> 1\u001b[0m \u001b[43mPrint\u001b[49m()\n",
      "\u001b[1;31mNameError\u001b[0m: name 'Print' is not defined"
     ]
    }
   ],
   "source": []
  },
  {
   "cell_type": "code",
   "execution_count": null,
   "id": "16880611",
   "metadata": {},
   "outputs": [],
   "source": []
  }
 ],
 "metadata": {
  "kernelspec": {
   "display_name": "Python 3 (ipykernel)",
   "language": "python",
   "name": "python3"
  },
  "language_info": {
   "codemirror_mode": {
    "name": "ipython",
    "version": 3
   },
   "file_extension": ".py",
   "mimetype": "text/x-python",
   "name": "python",
   "nbconvert_exporter": "python",
   "pygments_lexer": "ipython3",
   "version": "3.11.3"
  }
 },
 "nbformat": 4,
 "nbformat_minor": 5
}
